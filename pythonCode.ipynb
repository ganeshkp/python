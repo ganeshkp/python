{
 "cells": [
  {
   "cell_type": "code",
   "execution_count": 1,
   "metadata": {},
   "outputs": [
    {
     "data": {
      "text/plain": [
       "30"
      ]
     },
     "execution_count": 1,
     "metadata": {},
     "output_type": "execute_result"
    }
   ],
   "source": [
    "# Python 3.5+ supports 'type annotations' that can be\n",
    "# used with tools like Mypy to write statically typed Python:\n",
    "def my_add(a: int, b: int) -> int:\n",
    "    return a + b\n",
    "\n",
    "my_add(10,20)"
   ]
  },
  {
   "cell_type": "markdown",
   "metadata": {},
   "source": [
    "## Python's list comprehensions are awesome.\n",
    "\n",
    "vals = [expression \n",
    "        for value in collection \n",
    "        if condition]\n",
    "\n",
    "## This is equivalent to:\n",
    "\n",
    "vals = []\n",
    "for value in collection:\n",
    "    if condition:\n",
    "        vals.append(expression)"
   ]
  },
  {
   "cell_type": "code",
   "execution_count": 13,
   "metadata": {},
   "outputs": [
    {
     "data": {
      "text/plain": [
       "[0, 4, 16, 36, 64]"
      ]
     },
     "execution_count": 13,
     "metadata": {},
     "output_type": "execute_result"
    }
   ],
   "source": [
    "even_squares = [x * x for x in range(10) if not x % 2]\n",
    "even_squares"
   ]
  },
  {
   "cell_type": "markdown",
   "metadata": {},
   "source": [
    "### Python has a HTTP server built into the standard library. This is super handy for previewing websites.\n",
    "\n",
    "### Python 3.x\n",
    "$ python3 -m http.server\n",
    "\n",
    "### Python 2.x\n",
    "$ python -m SimpleHTTPServer 8000\n",
    "\n",
    "### (This will serve the current directory at http://localhost:8000)"
   ]
  },
  {
   "cell_type": "code",
   "execution_count": 14,
   "metadata": {},
   "outputs": [],
   "source": [
    "# Because Python has first-class functions they can\n",
    "# be used to emulate switch/case statements\n",
    "\n",
    "def dispatch_if(operator, x, y):\n",
    "    if operator == 'add':\n",
    "        return x + y\n",
    "    elif operator == 'sub':\n",
    "        return x - y\n",
    "    elif operator == 'mul':\n",
    "        return x * y\n",
    "    elif operator == 'div':\n",
    "        return x / y\n",
    "    else:\n",
    "        return None"
   ]
  },
  {
   "cell_type": "code",
   "execution_count": 15,
   "metadata": {},
   "outputs": [],
   "source": [
    "def dispatch_dict(operator, x, y):\n",
    "    return {\n",
    "        'add': lambda: x + y,\n",
    "        'sub': lambda: x - y,\n",
    "        'mul': lambda: x * y,\n",
    "        'div': lambda: x / y,\n",
    "    }.get(operator, lambda: None)()"
   ]
  },
  {
   "cell_type": "code",
   "execution_count": 6,
   "metadata": {},
   "outputs": [
    {
     "data": {
      "text/plain": [
       "16"
      ]
     },
     "execution_count": 6,
     "metadata": {},
     "output_type": "execute_result"
    }
   ],
   "source": [
    "dispatch_if('mul', 2, 8)"
   ]
  },
  {
   "cell_type": "code",
   "execution_count": 7,
   "metadata": {},
   "outputs": [
    {
     "data": {
      "text/plain": [
       "16"
      ]
     },
     "execution_count": 7,
     "metadata": {},
     "output_type": "execute_result"
    }
   ],
   "source": [
    "dispatch_dict('mul', 2, 8)"
   ]
  },
  {
   "cell_type": "code",
   "execution_count": 9,
   "metadata": {},
   "outputs": [],
   "source": [
    "dispatch_if('unknown', 2, 8)"
   ]
  },
  {
   "cell_type": "code",
   "execution_count": 10,
   "metadata": {},
   "outputs": [],
   "source": [
    "dispatch_dict('unknown', 2, 8)"
   ]
  },
  {
   "cell_type": "markdown",
   "metadata": {},
   "source": [
    "## Functions are first-class citizens in Python:\n",
    "\n",
    "    They can be passed as arguments to other functions,\n",
    "    returned as values from other functions, and\n",
    "    assigned to variables and stored in data structures."
   ]
  },
  {
   "cell_type": "code",
   "execution_count": 11,
   "metadata": {},
   "outputs": [
    {
     "data": {
      "text/plain": [
       "<function __main__.myfunc(a, b)>"
      ]
     },
     "execution_count": 11,
     "metadata": {},
     "output_type": "execute_result"
    }
   ],
   "source": [
    "def myfunc(a, b):\n",
    "    return a + b\n",
    "\n",
    "funcs = [myfunc]\n",
    "funcs[0]"
   ]
  },
  {
   "cell_type": "code",
   "execution_count": 12,
   "metadata": {},
   "outputs": [
    {
     "data": {
      "text/plain": [
       "5"
      ]
     },
     "execution_count": 12,
     "metadata": {},
     "output_type": "execute_result"
    }
   ],
   "source": [
    "funcs[0](2,3)"
   ]
  },
  {
   "cell_type": "markdown",
   "metadata": {},
   "source": [
    "# \"is\" vs \"==\"\n",
    "\n",
    "    \"is\" expressions evaluate to True if two variables point to the same object\n",
    "    \"==\" evaluates to True if the objects referred to by the variables are equal"
   ]
  },
  {
   "cell_type": "code",
   "execution_count": 1,
   "metadata": {},
   "outputs": [
    {
     "data": {
      "text/plain": [
       "[1, 2, 3]"
      ]
     },
     "execution_count": 1,
     "metadata": {},
     "output_type": "execute_result"
    }
   ],
   "source": [
    "a = [1, 2, 3]\n",
    "b=a\n",
    "b"
   ]
  },
  {
   "cell_type": "code",
   "execution_count": 2,
   "metadata": {},
   "outputs": [
    {
     "data": {
      "text/plain": [
       "True"
      ]
     },
     "execution_count": 2,
     "metadata": {},
     "output_type": "execute_result"
    }
   ],
   "source": [
    "a is b"
   ]
  },
  {
   "cell_type": "code",
   "execution_count": 3,
   "metadata": {},
   "outputs": [
    {
     "data": {
      "text/plain": [
       "True"
      ]
     },
     "execution_count": 3,
     "metadata": {},
     "output_type": "execute_result"
    }
   ],
   "source": [
    "a==b"
   ]
  },
  {
   "cell_type": "code",
   "execution_count": 4,
   "metadata": {},
   "outputs": [],
   "source": [
    "c = list(a)"
   ]
  },
  {
   "cell_type": "code",
   "execution_count": 5,
   "metadata": {},
   "outputs": [
    {
     "data": {
      "text/plain": [
       "False"
      ]
     },
     "execution_count": 5,
     "metadata": {},
     "output_type": "execute_result"
    }
   ],
   "source": [
    "a is c"
   ]
  },
  {
   "cell_type": "code",
   "execution_count": 28,
   "metadata": {},
   "outputs": [
    {
     "name": "stdout",
     "output_type": "stream",
     "text": [
      "after swapping-a:42 b:23\n",
      "again swapping-a:23 b:42\n"
     ]
    }
   ],
   "source": [
    "# Why Python Is Great:\n",
    "# In-place value swapping\n",
    "\n",
    "# Let's say we want to swap the values of a and b...\n",
    "a = 23\n",
    "b = 42\n",
    "\n",
    "# The \"classic\" way to do it with a temporary variable:\n",
    "tmp = a\n",
    "a = b\n",
    "b = tmp\n",
    "print(f\"after swapping-a:{a} b:{b}\")\n",
    "\n",
    "\n",
    "# Python also lets us\n",
    "# use this short-hand:\n",
    "a, b = b, a\n",
    "print(f\"again swapping-a:{a} b:{b}\")"
   ]
  },
  {
   "cell_type": "markdown",
   "metadata": {},
   "source": [
    "### The \"timeit\" module lets you measure the execution time of small bits of Python code"
   ]
  },
  {
   "cell_type": "code",
   "execution_count": 31,
   "metadata": {},
   "outputs": [
    {
     "data": {
      "text/plain": [
       "0.3100717000000017"
      ]
     },
     "execution_count": 31,
     "metadata": {},
     "output_type": "execute_result"
    }
   ],
   "source": [
    "import timeit\n",
    "timeit.timeit('\"-\".join(str(n) for n in range(100))', number=10000)"
   ]
  },
  {
   "cell_type": "code",
   "execution_count": 32,
   "metadata": {},
   "outputs": [
    {
     "data": {
      "text/plain": [
       "0.2456894000000034"
      ]
     },
     "execution_count": 32,
     "metadata": {},
     "output_type": "execute_result"
    }
   ],
   "source": [
    "timeit.timeit('\"-\".join([str(n) for n in range(100)])', number=10000)"
   ]
  },
  {
   "cell_type": "code",
   "execution_count": 33,
   "metadata": {},
   "outputs": [
    {
     "data": {
      "text/plain": [
       "0.27378029999999853"
      ]
     },
     "execution_count": 33,
     "metadata": {},
     "output_type": "execute_result"
    }
   ],
   "source": [
    "timeit.timeit('\"-\".join([str(n) for n in range(100)])',number=10000)"
   ]
  },
  {
   "cell_type": "code",
   "execution_count": 34,
   "metadata": {},
   "outputs": [
    {
     "data": {
      "text/plain": [
       "0.24656459999999925"
      ]
     },
     "execution_count": 34,
     "metadata": {},
     "output_type": "execute_result"
    }
   ],
   "source": [
    "timeit.timeit('\"-\".join(map(str, range(100)))', number=10000)"
   ]
  },
  {
   "cell_type": "markdown",
   "metadata": {},
   "source": [
    "### Function argument unpacking"
   ]
  },
  {
   "cell_type": "code",
   "execution_count": 35,
   "metadata": {},
   "outputs": [],
   "source": [
    "def myfunc(x, y, z):\n",
    "    print(x, y, z)\n",
    "    \n",
    "tuple_vec = (1, 0, 1)\n",
    "dict_vec = {'x': 1, 'y': 0, 'z': 1}"
   ]
  },
  {
   "cell_type": "code",
   "execution_count": 38,
   "metadata": {},
   "outputs": [
    {
     "name": "stdout",
     "output_type": "stream",
     "text": [
      "1 0 1\n"
     ]
    }
   ],
   "source": [
    "myfunc(*tuple_vec)"
   ]
  },
  {
   "cell_type": "code",
   "execution_count": 37,
   "metadata": {},
   "outputs": [
    {
     "name": "stdout",
     "output_type": "stream",
     "text": [
      "1 0 1\n"
     ]
    }
   ],
   "source": [
    "myfunc(**dict_vec)"
   ]
  },
  {
   "cell_type": "markdown",
   "metadata": {},
   "source": [
    "### The standard string repr for dicts is hard to read:"
   ]
  },
  {
   "cell_type": "code",
   "execution_count": 39,
   "metadata": {},
   "outputs": [
    {
     "data": {
      "text/plain": [
       "{'a': 23, 'b': 42, 'c': 12648430}"
      ]
     },
     "execution_count": 39,
     "metadata": {},
     "output_type": "execute_result"
    }
   ],
   "source": [
    "my_mapping = {'a': 23, 'b': 42, 'c': 0xc0ffee}\n",
    "my_mapping"
   ]
  },
  {
   "cell_type": "code",
   "execution_count": 40,
   "metadata": {},
   "outputs": [
    {
     "name": "stdout",
     "output_type": "stream",
     "text": [
      "{\n",
      "    \"a\": 23,\n",
      "    \"b\": 42,\n",
      "    \"c\": 12648430\n",
      "}\n"
     ]
    }
   ],
   "source": [
    "# The \"json\" module can do a much better job:\n",
    "import json\n",
    "print(json.dumps(my_mapping, indent=4, sort_keys=True))"
   ]
  },
  {
   "cell_type": "markdown",
   "metadata": {},
   "source": [
    "### The get() method on dicts and its \"default\" argument\n",
    "    When \"get()\" is called it checks if the given key exists in the dict. If it does exist, the value for that key is returned. If it does not exist then the value of the default argument is returned instead."
   ]
  },
  {
   "cell_type": "code",
   "execution_count": 43,
   "metadata": {},
   "outputs": [],
   "source": [
    "name_for_userid = {\n",
    "    382: \"Alice\",\n",
    "    590: \"Bob\",\n",
    "    951: \"Dilbert\",\n",
    "}\n",
    "\n",
    "def greeting(userid):\n",
    "    return \"Hi %s!\" % name_for_userid.get(userid, \"there\")"
   ]
  },
  {
   "cell_type": "code",
   "execution_count": 44,
   "metadata": {},
   "outputs": [
    {
     "data": {
      "text/plain": [
       "'Hi Alice!'"
      ]
     },
     "execution_count": 44,
     "metadata": {},
     "output_type": "execute_result"
    }
   ],
   "source": [
    "greeting(382)"
   ]
  },
  {
   "cell_type": "code",
   "execution_count": 45,
   "metadata": {},
   "outputs": [
    {
     "data": {
      "text/plain": [
       "'Hi there!'"
      ]
     },
     "execution_count": 45,
     "metadata": {},
     "output_type": "execute_result"
    }
   ],
   "source": [
    "greeting(333333)"
   ]
  },
  {
   "cell_type": "markdown",
   "metadata": {},
   "source": [
    "### How to sort a Python dict by value: (== get a representation sorted by value)"
   ]
  },
  {
   "cell_type": "code",
   "execution_count": 56,
   "metadata": {},
   "outputs": [
    {
     "data": {
      "text/plain": [
       "{'b': 3, 'c': 2, 'd': 1, 'a': 4}"
      ]
     },
     "execution_count": 56,
     "metadata": {},
     "output_type": "execute_result"
    }
   ],
   "source": [
    "xs = {'b': 3, 'c': 2, 'd': 1, 'a': 4,}\n",
    "xs"
   ]
  },
  {
   "cell_type": "code",
   "execution_count": 59,
   "metadata": {},
   "outputs": [],
   "source": [
    "xss=sorted(xs.items(), key=lambda x: x[0])"
   ]
  },
  {
   "cell_type": "code",
   "execution_count": 60,
   "metadata": {},
   "outputs": [
    {
     "data": {
      "text/plain": [
       "[('a', 4), ('b', 3), ('c', 2), ('d', 1)]"
      ]
     },
     "execution_count": 60,
     "metadata": {},
     "output_type": "execute_result"
    }
   ],
   "source": [
    "xss"
   ]
  },
  {
   "cell_type": "code",
   "execution_count": 61,
   "metadata": {},
   "outputs": [
    {
     "data": {
      "text/plain": [
       "[('d', 1), ('c', 2), ('b', 3), ('a', 4)]"
      ]
     },
     "execution_count": 61,
     "metadata": {},
     "output_type": "execute_result"
    }
   ],
   "source": [
    "import operator\n",
    "sorted(xs.items(), key=operator.itemgetter(1))"
   ]
  },
  {
   "cell_type": "markdown",
   "metadata": {},
   "source": [
    "### Different ways to test multiple flags at once in Python"
   ]
  },
  {
   "cell_type": "code",
   "execution_count": 52,
   "metadata": {},
   "outputs": [
    {
     "name": "stdout",
     "output_type": "stream",
     "text": [
      "passed\n",
      "passed\n"
     ]
    }
   ],
   "source": [
    "x, y, z = 0, 1, 0\n",
    "\n",
    "if x == 1 or y == 1 or z == 1:\n",
    "    print('passed')\n",
    "    \n",
    "if 1 in (x, y, z):\n",
    "    print('passed')"
   ]
  },
  {
   "cell_type": "code",
   "execution_count": 53,
   "metadata": {},
   "outputs": [
    {
     "name": "stdout",
     "output_type": "stream",
     "text": [
      "passed\n",
      "passed\n"
     ]
    }
   ],
   "source": [
    "# These only test for truthiness:\n",
    "if x or y or z:\n",
    "    print('passed')\n",
    "\n",
    "if any((x, y, z)):\n",
    "    print('passed')"
   ]
  },
  {
   "cell_type": "markdown",
   "metadata": {},
   "source": [
    "### How to merge two dictionaries"
   ]
  },
  {
   "cell_type": "code",
   "execution_count": 54,
   "metadata": {},
   "outputs": [],
   "source": [
    "x = {'a': 1, 'b': 2}\n",
    "y = {'b': 3, 'c': 4}"
   ]
  },
  {
   "cell_type": "code",
   "execution_count": 55,
   "metadata": {},
   "outputs": [
    {
     "data": {
      "text/plain": [
       "{'a': 1, 'b': 3, 'c': 4}"
      ]
     },
     "execution_count": 55,
     "metadata": {},
     "output_type": "execute_result"
    }
   ],
   "source": [
    "z = {**x, **y}\n",
    "z"
   ]
  },
  {
   "cell_type": "markdown",
   "metadata": {},
   "source": [
    "### The lambda keyword in Python provides a shortcut for declaring small and anonymous functions:"
   ]
  },
  {
   "cell_type": "code",
   "execution_count": 6,
   "metadata": {},
   "outputs": [
    {
     "data": {
      "text/plain": [
       "8"
      ]
     },
     "execution_count": 6,
     "metadata": {},
     "output_type": "execute_result"
    }
   ],
   "source": [
    "add = lambda x, y: x + y\n",
    "add(5,3)"
   ]
  },
  {
   "cell_type": "code",
   "execution_count": 7,
   "metadata": {},
   "outputs": [
    {
     "data": {
      "text/plain": [
       "8"
      ]
     },
     "execution_count": 7,
     "metadata": {},
     "output_type": "execute_result"
    }
   ],
   "source": [
    "def add(x, y):\n",
    "    return x + y\n",
    "add(5,3)"
   ]
  },
  {
   "cell_type": "code",
   "execution_count": 8,
   "metadata": {},
   "outputs": [
    {
     "data": {
      "text/plain": [
       "8"
      ]
     },
     "execution_count": 8,
     "metadata": {},
     "output_type": "execute_result"
    }
   ],
   "source": [
    "# So what's the big fuss about?\n",
    "# Lambdas are *function expressions*:\n",
    "\n",
    "(lambda x, y: x + y)(5, 3)\n",
    "\n",
    "# Lambda functions are single-expression functions that are not necessarily bound to a name (they can be anonymous).\n",
    "\n",
    "# Lambda functions can't use regular Python statements and always include an implicit `return` statement."
   ]
  },
  {
   "cell_type": "markdown",
   "metadata": {},
   "source": [
    "### Iterate with enumerate() instead of range(len())"
   ]
  },
  {
   "cell_type": "code",
   "execution_count": 9,
   "metadata": {},
   "outputs": [],
   "source": [
    "a=[1,2,4,5,6]"
   ]
  },
  {
   "cell_type": "code",
   "execution_count": 10,
   "metadata": {},
   "outputs": [
    {
     "name": "stdout",
     "output_type": "stream",
     "text": [
      "1\n",
      "2\n",
      "4\n",
      "5\n",
      "6\n"
     ]
    }
   ],
   "source": [
    "for i in range(len(a)):\n",
    "    print(a[i])"
   ]
  },
  {
   "cell_type": "code",
   "execution_count": 13,
   "metadata": {},
   "outputs": [
    {
     "name": "stdout",
     "output_type": "stream",
     "text": [
      "0 1\n",
      "1 2\n",
      "2 4\n",
      "3 5\n",
      "4 6\n"
     ]
    }
   ],
   "source": [
    "for i, value in enumerate(a):\n",
    "    print(i, value)"
   ]
  },
  {
   "cell_type": "markdown",
   "metadata": {},
   "source": [
    "### Use list comprehension instead of raw for-loops"
   ]
  },
  {
   "cell_type": "code",
   "execution_count": 16,
   "metadata": {},
   "outputs": [
    {
     "data": {
      "text/plain": [
       "[0, 1, 4, 9, 16, 25, 36, 49, 64, 81]"
      ]
     },
     "execution_count": 16,
     "metadata": {},
     "output_type": "execute_result"
    }
   ],
   "source": [
    "squares = []\n",
    "for i in range(10):\n",
    "    squares.append(i*i)\n",
    "squares"
   ]
  },
  {
   "cell_type": "code",
   "execution_count": 18,
   "metadata": {},
   "outputs": [
    {
     "data": {
      "text/plain": [
       "[0, 1, 4, 9, 16, 25, 36, 49, 64, 81]"
      ]
     },
     "execution_count": 18,
     "metadata": {},
     "output_type": "execute_result"
    }
   ],
   "source": [
    "squares=[x*x for x in range(10)]\n",
    "squares"
   ]
  },
  {
   "cell_type": "markdown",
   "metadata": {},
   "source": [
    "### Sort complex iterables with the built-in sorted() method"
   ]
  },
  {
   "cell_type": "code",
   "execution_count": 20,
   "metadata": {},
   "outputs": [
    {
     "data": {
      "text/plain": [
       "[10, 9, 5, 3, 1]"
      ]
     },
     "execution_count": 20,
     "metadata": {},
     "output_type": "execute_result"
    }
   ],
   "source": [
    "data = (3, 5, 1, 10, 9)\n",
    "sorted_data = sorted(data, reverse=True) # [10, 9, 5, 3, 1]\n",
    "sorted_data"
   ]
  },
  {
   "cell_type": "code",
   "execution_count": 21,
   "metadata": {},
   "outputs": [
    {
     "data": {
      "text/plain": [
       "[{'name': 'Max', 'age': 6},\n",
       " {'name': 'Ben', 'age': 9},\n",
       " {'name': 'Lisa', 'age': 20}]"
      ]
     },
     "execution_count": 21,
     "metadata": {},
     "output_type": "execute_result"
    }
   ],
   "source": [
    "data = [{\"name\": \"Max\", \"age\": 6}, \n",
    "        {\"name\": \"Lisa\", \"age\": 20}, \n",
    "        {\"name\": \"Ben\", \"age\": 9}\n",
    "        ]\n",
    "sorted_data = sorted(data, key=lambda x: x[\"age\"])\n",
    "sorted_data"
   ]
  },
  {
   "cell_type": "markdown",
   "metadata": {},
   "source": [
    "### Store unique values with Sets"
   ]
  },
  {
   "cell_type": "code",
   "execution_count": 23,
   "metadata": {},
   "outputs": [
    {
     "data": {
      "text/plain": [
       "{1, 2, 3, 4, 5, 6, 7}"
      ]
     },
     "execution_count": 23,
     "metadata": {},
     "output_type": "execute_result"
    }
   ],
   "source": [
    "my_list = [1,2,3,4,5,6,7,7,7]\n",
    "my_set = set(my_list) # removes duplicates\n",
    "my_set"
   ]
  },
  {
   "cell_type": "code",
   "execution_count": 25,
   "metadata": {},
   "outputs": [
    {
     "data": {
      "text/plain": [
       "[1, 2, 3, 4, 5, 6, 7]"
      ]
     },
     "execution_count": 25,
     "metadata": {},
     "output_type": "execute_result"
    }
   ],
   "source": [
    "my_set=list(my_set)\n",
    "my_set"
   ]
  },
  {
   "cell_type": "code",
   "execution_count": 27,
   "metadata": {},
   "outputs": [
    {
     "data": {
      "text/plain": [
       "{2, 3, 5, 7, 11, 13, 17, 19}"
      ]
     },
     "execution_count": 27,
     "metadata": {},
     "output_type": "execute_result"
    }
   ],
   "source": [
    "primes = {2,3,5,7,11,13,17,19}\n",
    "primes"
   ]
  },
  {
   "cell_type": "code",
   "execution_count": 30,
   "metadata": {},
   "outputs": [
    {
     "data": {
      "text/plain": [
       "{2, 3, 5, 7, 11, 13, 17, 19, 20}"
      ]
     },
     "execution_count": 30,
     "metadata": {},
     "output_type": "execute_result"
    }
   ],
   "source": [
    "primes.add(20)\n",
    "primes"
   ]
  },
  {
   "cell_type": "code",
   "execution_count": 32,
   "metadata": {},
   "outputs": [
    {
     "data": {
      "text/plain": [
       "{2, 3, 5, 7, 11, 13, 17, 19, 20}"
      ]
     },
     "execution_count": 32,
     "metadata": {},
     "output_type": "execute_result"
    }
   ],
   "source": [
    "primes.add(19)\n",
    "primes"
   ]
  },
  {
   "cell_type": "code",
   "execution_count": 35,
   "metadata": {},
   "outputs": [
    {
     "data": {
      "text/plain": [
       "{1, 2, 3, 4, 5, 6}"
      ]
     },
     "execution_count": 35,
     "metadata": {},
     "output_type": "execute_result"
    }
   ],
   "source": [
    "a={2,4,5,6,2,3,5,6,1}\n",
    "a"
   ]
  },
  {
   "cell_type": "markdown",
   "metadata": {},
   "source": [
    "### Save Memory With Generators"
   ]
  },
  {
   "cell_type": "code",
   "execution_count": 36,
   "metadata": {},
   "outputs": [
    {
     "name": "stdout",
     "output_type": "stream",
     "text": [
      "49995000\n",
      "49995000\n"
     ]
    }
   ],
   "source": [
    "# list comprehension\n",
    "my_list = [i for i in range(10000)]\n",
    "print(sum(my_list)) # 49995000\n",
    "\n",
    "# generator comprehension\n",
    "my_gen = (i for i in range(10000))\n",
    "print(sum(my_gen)) # 49995000"
   ]
  },
  {
   "cell_type": "code",
   "execution_count": 37,
   "metadata": {},
   "outputs": [
    {
     "name": "stdout",
     "output_type": "stream",
     "text": [
      "87624 bytes\n",
      "88 bytes\n"
     ]
    }
   ],
   "source": [
    "import sys \n",
    "\n",
    "my_list = [i for i in range(10000)]\n",
    "print(sys.getsizeof(my_list), 'bytes') # 87616 bytes\n",
    "\n",
    "my_gen = (i for i in range(10000))\n",
    "print(sys.getsizeof(my_gen), 'bytes') # 128 bytes"
   ]
  },
  {
   "cell_type": "markdown",
   "metadata": {},
   "source": [
    "### Define default values in Dictionaries with .get() and .setdefault()"
   ]
  },
  {
   "cell_type": "code",
   "execution_count": 40,
   "metadata": {},
   "outputs": [
    {
     "ename": "KeyError",
     "evalue": "'count'",
     "output_type": "error",
     "traceback": [
      "\u001b[1;31m---------------------------------------------------------------------------\u001b[0m",
      "\u001b[1;31mKeyError\u001b[0m                                  Traceback (most recent call last)",
      "\u001b[1;32m<ipython-input-40-647e9ca9da11>\u001b[0m in \u001b[0;36m<module>\u001b[1;34m\u001b[0m\n\u001b[0;32m      1\u001b[0m \u001b[0mmy_dict\u001b[0m \u001b[1;33m=\u001b[0m \u001b[1;33m{\u001b[0m\u001b[1;34m'item'\u001b[0m\u001b[1;33m:\u001b[0m \u001b[1;34m'football'\u001b[0m\u001b[1;33m,\u001b[0m \u001b[1;34m'price'\u001b[0m\u001b[1;33m:\u001b[0m \u001b[1;36m10.00\u001b[0m\u001b[1;33m}\u001b[0m\u001b[1;33m\u001b[0m\u001b[1;33m\u001b[0m\u001b[0m\n\u001b[1;32m----> 2\u001b[1;33m \u001b[0mprice\u001b[0m \u001b[1;33m=\u001b[0m \u001b[0mmy_dict\u001b[0m\u001b[1;33m[\u001b[0m\u001b[1;34m'count'\u001b[0m\u001b[1;33m]\u001b[0m \u001b[1;31m# KeyError!\u001b[0m\u001b[1;33m\u001b[0m\u001b[1;33m\u001b[0m\u001b[0m\n\u001b[0m",
      "\u001b[1;31mKeyError\u001b[0m: 'count'"
     ]
    }
   ],
   "source": [
    "my_dict = {'item': 'football', 'price': 10.00}\n",
    "price = my_dict['count'] # KeyError!"
   ]
  },
  {
   "cell_type": "code",
   "execution_count": 41,
   "metadata": {},
   "outputs": [
    {
     "data": {
      "text/plain": [
       "0"
      ]
     },
     "execution_count": 41,
     "metadata": {},
     "output_type": "execute_result"
    }
   ],
   "source": [
    "# better:\n",
    "price = my_dict.get('count', 0) # optional default value\n",
    "price"
   ]
  },
  {
   "cell_type": "code",
   "execution_count": 42,
   "metadata": {},
   "outputs": [
    {
     "name": "stdout",
     "output_type": "stream",
     "text": [
      "0\n",
      "{'item': 'football', 'price': 10.0, 'count': 0}\n"
     ]
    }
   ],
   "source": [
    "count = my_dict.setdefault('count', 0)\n",
    "print(count) # 0\n",
    "print(my_dict) # {'item': 'football', 'price': 10.00, 'count': 0}"
   ]
  },
  {
   "cell_type": "markdown",
   "metadata": {},
   "source": [
    "### Count hashable objects with collections.Counter"
   ]
  },
  {
   "cell_type": "code",
   "execution_count": 62,
   "metadata": {},
   "outputs": [
    {
     "name": "stdout",
     "output_type": "stream",
     "text": [
      "Counter({9: 6, 10: 3, 5: 2, 2: 1})\n",
      "3\n"
     ]
    }
   ],
   "source": [
    "from collections import Counter\n",
    "\n",
    "my_list = [10, 10, 10, 5, 5, 2, 9, 9, 9, 9, 9, 9]\n",
    "counter = Counter(my_list)\n",
    "\n",
    "print(counter) # Counter({9: 6, 10: 3, 5: 2, 2: 1})\n",
    "print(counter[10]) # 3"
   ]
  },
  {
   "cell_type": "code",
   "execution_count": 67,
   "metadata": {},
   "outputs": [
    {
     "data": {
      "text/plain": [
       "(6, 3)"
      ]
     },
     "execution_count": 67,
     "metadata": {},
     "output_type": "execute_result"
    }
   ],
   "source": [
    "counter[9],counter[10]"
   ]
  },
  {
   "cell_type": "code",
   "execution_count": 68,
   "metadata": {},
   "outputs": [
    {
     "name": "stdout",
     "output_type": "stream",
     "text": [
      "[(9, 6), (10, 3)]\n",
      "(9, 6)\n",
      "9\n"
     ]
    }
   ],
   "source": [
    "from collections import Counter\n",
    "\n",
    "my_list = [10, 10, 10, 5, 5, 2, 9, 9, 9, 9, 9, 9]\n",
    "counter = Counter(my_list)\n",
    "\n",
    "most_common = counter.most_common(2)\n",
    "print(most_common) # [(9, 6), (10, 3)]\n",
    "print(most_common[0]) # (9, 6)\n",
    "print(most_common[0][0]) # 9"
   ]
  },
  {
   "cell_type": "markdown",
   "metadata": {},
   "source": [
    "### Initialising a list filled with some number"
   ]
  },
  {
   "cell_type": "code",
   "execution_count": 69,
   "metadata": {},
   "outputs": [
    {
     "data": {
      "text/plain": [
       "[8.2,\n",
       " 8.2,\n",
       " 8.2,\n",
       " 8.2,\n",
       " 8.2,\n",
       " 8.2,\n",
       " 8.2,\n",
       " 8.2,\n",
       " 8.2,\n",
       " 8.2,\n",
       " 8.2,\n",
       " 8.2,\n",
       " 8.2,\n",
       " 8.2,\n",
       " 8.2,\n",
       " 8.2,\n",
       " 8.2,\n",
       " 8.2,\n",
       " 8.2,\n",
       " 8.2,\n",
       " 8.2,\n",
       " 8.2,\n",
       " 8.2,\n",
       " 8.2,\n",
       " 8.2,\n",
       " 8.2,\n",
       " 8.2,\n",
       " 8.2,\n",
       " 8.2,\n",
       " 8.2,\n",
       " 8.2,\n",
       " 8.2,\n",
       " 8.2,\n",
       " 8.2,\n",
       " 8.2,\n",
       " 8.2,\n",
       " 8.2,\n",
       " 8.2,\n",
       " 8.2,\n",
       " 8.2,\n",
       " 8.2,\n",
       " 8.2,\n",
       " 8.2,\n",
       " 8.2,\n",
       " 8.2,\n",
       " 8.2,\n",
       " 8.2,\n",
       " 8.2,\n",
       " 8.2,\n",
       " 8.2,\n",
       " 8.2,\n",
       " 8.2,\n",
       " 8.2,\n",
       " 8.2,\n",
       " 8.2,\n",
       " 8.2,\n",
       " 8.2,\n",
       " 8.2,\n",
       " 8.2,\n",
       " 8.2,\n",
       " 8.2,\n",
       " 8.2,\n",
       " 8.2,\n",
       " 8.2,\n",
       " 8.2,\n",
       " 8.2,\n",
       " 8.2,\n",
       " 8.2,\n",
       " 8.2,\n",
       " 8.2,\n",
       " 8.2,\n",
       " 8.2,\n",
       " 8.2,\n",
       " 8.2,\n",
       " 8.2,\n",
       " 8.2,\n",
       " 8.2,\n",
       " 8.2,\n",
       " 8.2,\n",
       " 8.2,\n",
       " 8.2,\n",
       " 8.2,\n",
       " 8.2,\n",
       " 8.2,\n",
       " 8.2,\n",
       " 8.2,\n",
       " 8.2,\n",
       " 8.2,\n",
       " 8.2,\n",
       " 8.2,\n",
       " 8.2,\n",
       " 8.2,\n",
       " 8.2,\n",
       " 8.2,\n",
       " 8.2,\n",
       " 8.2,\n",
       " 8.2,\n",
       " 8.2,\n",
       " 8.2,\n",
       " 8.2,\n",
       " 8.2,\n",
       " 8.2,\n",
       " 8.2,\n",
       " 8.2,\n",
       " 8.2,\n",
       " 8.2,\n",
       " 8.2,\n",
       " 8.2,\n",
       " 8.2,\n",
       " 8.2,\n",
       " 8.2,\n",
       " 8.2,\n",
       " 8.2,\n",
       " 8.2,\n",
       " 8.2,\n",
       " 8.2,\n",
       " 8.2,\n",
       " 8.2,\n",
       " 8.2,\n",
       " 8.2,\n",
       " 8.2,\n",
       " 8.2,\n",
       " 8.2,\n",
       " 8.2,\n",
       " 8.2,\n",
       " 8.2,\n",
       " 8.2,\n",
       " 8.2,\n",
       " 8.2,\n",
       " 8.2,\n",
       " 8.2,\n",
       " 8.2,\n",
       " 8.2,\n",
       " 8.2,\n",
       " 8.2,\n",
       " 8.2,\n",
       " 8.2,\n",
       " 8.2,\n",
       " 8.2,\n",
       " 8.2,\n",
       " 8.2,\n",
       " 8.2,\n",
       " 8.2,\n",
       " 8.2,\n",
       " 8.2,\n",
       " 8.2,\n",
       " 8.2,\n",
       " 8.2,\n",
       " 8.2,\n",
       " 8.2,\n",
       " 8.2,\n",
       " 8.2,\n",
       " 8.2,\n",
       " 8.2,\n",
       " 8.2,\n",
       " 8.2,\n",
       " 8.2,\n",
       " 8.2,\n",
       " 8.2,\n",
       " 8.2,\n",
       " 8.2,\n",
       " 8.2,\n",
       " 8.2,\n",
       " 8.2,\n",
       " 8.2,\n",
       " 8.2,\n",
       " 8.2,\n",
       " 8.2,\n",
       " 8.2,\n",
       " 8.2,\n",
       " 8.2,\n",
       " 8.2,\n",
       " 8.2,\n",
       " 8.2,\n",
       " 8.2,\n",
       " 8.2,\n",
       " 8.2,\n",
       " 8.2,\n",
       " 8.2,\n",
       " 8.2,\n",
       " 8.2,\n",
       " 8.2,\n",
       " 8.2,\n",
       " 8.2,\n",
       " 8.2,\n",
       " 8.2,\n",
       " 8.2,\n",
       " 8.2,\n",
       " 8.2,\n",
       " 8.2,\n",
       " 8.2,\n",
       " 8.2,\n",
       " 8.2,\n",
       " 8.2,\n",
       " 8.2,\n",
       " 8.2,\n",
       " 8.2,\n",
       " 8.2,\n",
       " 8.2,\n",
       " 8.2,\n",
       " 8.2,\n",
       " 8.2,\n",
       " 8.2,\n",
       " 8.2,\n",
       " 8.2,\n",
       " 8.2,\n",
       " 8.2,\n",
       " 8.2,\n",
       " 8.2,\n",
       " 8.2,\n",
       " 8.2,\n",
       " 8.2,\n",
       " 8.2,\n",
       " 8.2,\n",
       " 8.2,\n",
       " 8.2,\n",
       " 8.2,\n",
       " 8.2,\n",
       " 8.2,\n",
       " 8.2,\n",
       " 8.2,\n",
       " 8.2,\n",
       " 8.2,\n",
       " 8.2,\n",
       " 8.2,\n",
       " 8.2,\n",
       " 8.2,\n",
       " 8.2,\n",
       " 8.2,\n",
       " 8.2,\n",
       " 8.2,\n",
       " 8.2,\n",
       " 8.2,\n",
       " 8.2,\n",
       " 8.2,\n",
       " 8.2,\n",
       " 8.2,\n",
       " 8.2,\n",
       " 8.2,\n",
       " 8.2,\n",
       " 8.2,\n",
       " 8.2,\n",
       " 8.2,\n",
       " 8.2,\n",
       " 8.2,\n",
       " 8.2,\n",
       " 8.2,\n",
       " 8.2,\n",
       " 8.2,\n",
       " 8.2,\n",
       " 8.2,\n",
       " 8.2,\n",
       " 8.2,\n",
       " 8.2,\n",
       " 8.2,\n",
       " 8.2,\n",
       " 8.2,\n",
       " 8.2,\n",
       " 8.2,\n",
       " 8.2,\n",
       " 8.2,\n",
       " 8.2,\n",
       " 8.2,\n",
       " 8.2,\n",
       " 8.2,\n",
       " 8.2,\n",
       " 8.2,\n",
       " 8.2,\n",
       " 8.2,\n",
       " 8.2,\n",
       " 8.2,\n",
       " 8.2,\n",
       " 8.2,\n",
       " 8.2,\n",
       " 8.2,\n",
       " 8.2,\n",
       " 8.2,\n",
       " 8.2,\n",
       " 8.2,\n",
       " 8.2,\n",
       " 8.2,\n",
       " 8.2,\n",
       " 8.2,\n",
       " 8.2,\n",
       " 8.2,\n",
       " 8.2,\n",
       " 8.2,\n",
       " 8.2,\n",
       " 8.2,\n",
       " 8.2,\n",
       " 8.2,\n",
       " 8.2,\n",
       " 8.2,\n",
       " 8.2,\n",
       " 8.2,\n",
       " 8.2,\n",
       " 8.2,\n",
       " 8.2,\n",
       " 8.2,\n",
       " 8.2,\n",
       " 8.2,\n",
       " 8.2,\n",
       " 8.2,\n",
       " 8.2,\n",
       " 8.2,\n",
       " 8.2,\n",
       " 8.2,\n",
       " 8.2,\n",
       " 8.2,\n",
       " 8.2,\n",
       " 8.2,\n",
       " 8.2,\n",
       " 8.2,\n",
       " 8.2,\n",
       " 8.2,\n",
       " 8.2,\n",
       " 8.2,\n",
       " 8.2,\n",
       " 8.2,\n",
       " 8.2,\n",
       " 8.2,\n",
       " 8.2,\n",
       " 8.2,\n",
       " 8.2,\n",
       " 8.2,\n",
       " 8.2,\n",
       " 8.2,\n",
       " 8.2,\n",
       " 8.2,\n",
       " 8.2,\n",
       " 8.2,\n",
       " 8.2,\n",
       " 8.2,\n",
       " 8.2,\n",
       " 8.2,\n",
       " 8.2,\n",
       " 8.2,\n",
       " 8.2,\n",
       " 8.2,\n",
       " 8.2,\n",
       " 8.2,\n",
       " 8.2,\n",
       " 8.2,\n",
       " 8.2,\n",
       " 8.2,\n",
       " 8.2,\n",
       " 8.2,\n",
       " 8.2,\n",
       " 8.2,\n",
       " 8.2,\n",
       " 8.2,\n",
       " 8.2,\n",
       " 8.2,\n",
       " 8.2,\n",
       " 8.2,\n",
       " 8.2,\n",
       " 8.2,\n",
       " 8.2,\n",
       " 8.2,\n",
       " 8.2,\n",
       " 8.2,\n",
       " 8.2,\n",
       " 8.2,\n",
       " 8.2,\n",
       " 8.2,\n",
       " 8.2,\n",
       " 8.2,\n",
       " 8.2,\n",
       " 8.2,\n",
       " 8.2,\n",
       " 8.2,\n",
       " 8.2,\n",
       " 8.2,\n",
       " 8.2,\n",
       " 8.2,\n",
       " 8.2,\n",
       " 8.2,\n",
       " 8.2,\n",
       " 8.2,\n",
       " 8.2,\n",
       " 8.2,\n",
       " 8.2,\n",
       " 8.2,\n",
       " 8.2,\n",
       " 8.2,\n",
       " 8.2,\n",
       " 8.2,\n",
       " 8.2,\n",
       " 8.2,\n",
       " 8.2,\n",
       " 8.2,\n",
       " 8.2,\n",
       " 8.2,\n",
       " 8.2,\n",
       " 8.2,\n",
       " 8.2,\n",
       " 8.2,\n",
       " 8.2,\n",
       " 8.2,\n",
       " 8.2,\n",
       " 8.2,\n",
       " 8.2,\n",
       " 8.2,\n",
       " 8.2,\n",
       " 8.2,\n",
       " 8.2,\n",
       " 8.2,\n",
       " 8.2,\n",
       " 8.2,\n",
       " 8.2,\n",
       " 8.2,\n",
       " 8.2,\n",
       " 8.2,\n",
       " 8.2,\n",
       " 8.2,\n",
       " 8.2,\n",
       " 8.2,\n",
       " 8.2,\n",
       " 8.2,\n",
       " 8.2,\n",
       " 8.2,\n",
       " 8.2,\n",
       " 8.2,\n",
       " 8.2,\n",
       " 8.2,\n",
       " 8.2,\n",
       " 8.2,\n",
       " 8.2,\n",
       " 8.2,\n",
       " 8.2,\n",
       " 8.2,\n",
       " 8.2,\n",
       " 8.2,\n",
       " 8.2,\n",
       " 8.2,\n",
       " 8.2,\n",
       " 8.2,\n",
       " 8.2,\n",
       " 8.2,\n",
       " 8.2,\n",
       " 8.2,\n",
       " 8.2,\n",
       " 8.2,\n",
       " 8.2,\n",
       " 8.2,\n",
       " 8.2,\n",
       " 8.2,\n",
       " 8.2,\n",
       " 8.2,\n",
       " 8.2,\n",
       " 8.2,\n",
       " 8.2,\n",
       " 8.2,\n",
       " 8.2,\n",
       " 8.2,\n",
       " 8.2,\n",
       " 8.2,\n",
       " 8.2,\n",
       " 8.2,\n",
       " 8.2,\n",
       " 8.2,\n",
       " 8.2,\n",
       " 8.2,\n",
       " 8.2,\n",
       " 8.2,\n",
       " 8.2,\n",
       " 8.2,\n",
       " 8.2,\n",
       " 8.2,\n",
       " 8.2,\n",
       " 8.2,\n",
       " 8.2,\n",
       " 8.2,\n",
       " 8.2,\n",
       " 8.2,\n",
       " 8.2,\n",
       " 8.2,\n",
       " 8.2,\n",
       " 8.2,\n",
       " 8.2,\n",
       " 8.2,\n",
       " 8.2,\n",
       " 8.2,\n",
       " 8.2,\n",
       " 8.2,\n",
       " 8.2,\n",
       " 8.2,\n",
       " 8.2,\n",
       " 8.2,\n",
       " 8.2,\n",
       " 8.2,\n",
       " 8.2,\n",
       " 8.2,\n",
       " 8.2,\n",
       " 8.2,\n",
       " 8.2,\n",
       " 8.2,\n",
       " 8.2,\n",
       " 8.2,\n",
       " 8.2,\n",
       " 8.2,\n",
       " 8.2,\n",
       " 8.2,\n",
       " 8.2,\n",
       " 8.2,\n",
       " 8.2,\n",
       " 8.2,\n",
       " 8.2,\n",
       " 8.2,\n",
       " 8.2,\n",
       " 8.2,\n",
       " 8.2,\n",
       " 8.2,\n",
       " 8.2,\n",
       " 8.2,\n",
       " 8.2,\n",
       " 8.2,\n",
       " 8.2,\n",
       " 8.2,\n",
       " 8.2,\n",
       " 8.2,\n",
       " 8.2,\n",
       " 8.2,\n",
       " 8.2,\n",
       " 8.2,\n",
       " 8.2,\n",
       " 8.2,\n",
       " 8.2,\n",
       " 8.2,\n",
       " 8.2,\n",
       " 8.2,\n",
       " 8.2,\n",
       " 8.2,\n",
       " 8.2,\n",
       " 8.2,\n",
       " 8.2,\n",
       " 8.2,\n",
       " 8.2,\n",
       " 8.2,\n",
       " 8.2,\n",
       " 8.2,\n",
       " 8.2,\n",
       " 8.2,\n",
       " 8.2,\n",
       " 8.2,\n",
       " 8.2,\n",
       " 8.2,\n",
       " 8.2,\n",
       " 8.2,\n",
       " 8.2,\n",
       " 8.2,\n",
       " 8.2,\n",
       " 8.2,\n",
       " 8.2,\n",
       " 8.2,\n",
       " 8.2,\n",
       " 8.2,\n",
       " 8.2,\n",
       " 8.2,\n",
       " 8.2,\n",
       " 8.2,\n",
       " 8.2,\n",
       " 8.2,\n",
       " 8.2,\n",
       " 8.2,\n",
       " 8.2,\n",
       " 8.2,\n",
       " 8.2,\n",
       " 8.2,\n",
       " 8.2,\n",
       " 8.2,\n",
       " 8.2,\n",
       " 8.2,\n",
       " 8.2,\n",
       " 8.2,\n",
       " 8.2,\n",
       " 8.2,\n",
       " 8.2,\n",
       " 8.2,\n",
       " 8.2,\n",
       " 8.2,\n",
       " 8.2,\n",
       " 8.2,\n",
       " 8.2,\n",
       " 8.2,\n",
       " 8.2,\n",
       " 8.2,\n",
       " 8.2,\n",
       " 8.2,\n",
       " 8.2,\n",
       " 8.2,\n",
       " 8.2,\n",
       " 8.2,\n",
       " 8.2,\n",
       " 8.2,\n",
       " 8.2,\n",
       " 8.2,\n",
       " 8.2,\n",
       " 8.2,\n",
       " 8.2,\n",
       " 8.2,\n",
       " 8.2,\n",
       " 8.2,\n",
       " 8.2,\n",
       " 8.2,\n",
       " 8.2,\n",
       " 8.2,\n",
       " 8.2,\n",
       " 8.2,\n",
       " 8.2,\n",
       " 8.2,\n",
       " 8.2,\n",
       " 8.2,\n",
       " 8.2,\n",
       " 8.2,\n",
       " 8.2,\n",
       " 8.2,\n",
       " 8.2,\n",
       " 8.2,\n",
       " 8.2,\n",
       " 8.2,\n",
       " 8.2,\n",
       " 8.2,\n",
       " 8.2,\n",
       " 8.2,\n",
       " 8.2,\n",
       " 8.2,\n",
       " 8.2,\n",
       " 8.2,\n",
       " 8.2,\n",
       " 8.2,\n",
       " 8.2,\n",
       " 8.2,\n",
       " 8.2,\n",
       " 8.2,\n",
       " 8.2,\n",
       " 8.2,\n",
       " 8.2,\n",
       " 8.2,\n",
       " 8.2,\n",
       " 8.2,\n",
       " 8.2,\n",
       " 8.2,\n",
       " 8.2,\n",
       " 8.2,\n",
       " 8.2,\n",
       " 8.2,\n",
       " 8.2,\n",
       " 8.2,\n",
       " 8.2,\n",
       " 8.2,\n",
       " 8.2,\n",
       " 8.2,\n",
       " 8.2,\n",
       " 8.2,\n",
       " 8.2,\n",
       " 8.2,\n",
       " 8.2,\n",
       " 8.2,\n",
       " 8.2,\n",
       " 8.2,\n",
       " 8.2,\n",
       " 8.2,\n",
       " 8.2,\n",
       " 8.2,\n",
       " 8.2,\n",
       " 8.2,\n",
       " 8.2,\n",
       " 8.2,\n",
       " 8.2,\n",
       " 8.2,\n",
       " 8.2,\n",
       " 8.2,\n",
       " 8.2,\n",
       " 8.2,\n",
       " 8.2,\n",
       " 8.2,\n",
       " 8.2,\n",
       " 8.2,\n",
       " 8.2,\n",
       " 8.2,\n",
       " 8.2,\n",
       " 8.2,\n",
       " 8.2,\n",
       " 8.2,\n",
       " 8.2,\n",
       " 8.2,\n",
       " 8.2,\n",
       " 8.2,\n",
       " 8.2,\n",
       " 8.2,\n",
       " 8.2,\n",
       " 8.2,\n",
       " 8.2,\n",
       " 8.2,\n",
       " 8.2,\n",
       " 8.2,\n",
       " 8.2,\n",
       " 8.2,\n",
       " 8.2,\n",
       " 8.2,\n",
       " 8.2,\n",
       " 8.2,\n",
       " 8.2,\n",
       " 8.2,\n",
       " 8.2,\n",
       " 8.2,\n",
       " 8.2,\n",
       " 8.2,\n",
       " 8.2,\n",
       " 8.2,\n",
       " 8.2,\n",
       " 8.2,\n",
       " 8.2,\n",
       " 8.2,\n",
       " 8.2,\n",
       " 8.2,\n",
       " 8.2,\n",
       " 8.2,\n",
       " 8.2,\n",
       " 8.2,\n",
       " 8.2,\n",
       " 8.2,\n",
       " 8.2,\n",
       " 8.2,\n",
       " 8.2,\n",
       " 8.2,\n",
       " 8.2,\n",
       " 8.2,\n",
       " 8.2,\n",
       " 8.2,\n",
       " 8.2,\n",
       " 8.2,\n",
       " 8.2,\n",
       " 8.2,\n",
       " 8.2,\n",
       " 8.2,\n",
       " 8.2,\n",
       " 8.2,\n",
       " 8.2,\n",
       " 8.2,\n",
       " 8.2,\n",
       " 8.2,\n",
       " 8.2,\n",
       " 8.2,\n",
       " 8.2,\n",
       " 8.2,\n",
       " 8.2,\n",
       " 8.2,\n",
       " 8.2,\n",
       " 8.2,\n",
       " 8.2,\n",
       " 8.2,\n",
       " 8.2,\n",
       " 8.2,\n",
       " 8.2,\n",
       " 8.2,\n",
       " 8.2,\n",
       " 8.2,\n",
       " 8.2,\n",
       " 8.2,\n",
       " 8.2,\n",
       " 8.2,\n",
       " 8.2,\n",
       " 8.2,\n",
       " 8.2,\n",
       " 8.2,\n",
       " 8.2,\n",
       " 8.2,\n",
       " 8.2,\n",
       " 8.2,\n",
       " 8.2,\n",
       " 8.2,\n",
       " 8.2,\n",
       " 8.2,\n",
       " 8.2,\n",
       " 8.2,\n",
       " 8.2,\n",
       " 8.2,\n",
       " 8.2,\n",
       " 8.2,\n",
       " 8.2,\n",
       " 8.2,\n",
       " 8.2,\n",
       " 8.2,\n",
       " 8.2,\n",
       " 8.2,\n",
       " 8.2,\n",
       " 8.2,\n",
       " 8.2,\n",
       " 8.2,\n",
       " 8.2,\n",
       " 8.2,\n",
       " 8.2,\n",
       " 8.2,\n",
       " 8.2,\n",
       " 8.2,\n",
       " 8.2,\n",
       " 8.2,\n",
       " 8.2,\n",
       " 8.2,\n",
       " 8.2,\n",
       " 8.2,\n",
       " 8.2,\n",
       " 8.2,\n",
       " 8.2,\n",
       " 8.2,\n",
       " 8.2,\n",
       " 8.2,\n",
       " 8.2,\n",
       " 8.2,\n",
       " 8.2,\n",
       " 8.2,\n",
       " 8.2,\n",
       " 8.2,\n",
       " 8.2,\n",
       " 8.2,\n",
       " 8.2,\n",
       " 8.2,\n",
       " 8.2,\n",
       " 8.2,\n",
       " 8.2,\n",
       " 8.2,\n",
       " 8.2,\n",
       " 8.2,\n",
       " 8.2,\n",
       " 8.2,\n",
       " 8.2,\n",
       " 8.2,\n",
       " 8.2,\n",
       " 8.2,\n",
       " 8.2,\n",
       " 8.2,\n",
       " 8.2,\n",
       " 8.2,\n",
       " 8.2,\n",
       " 8.2,\n",
       " 8.2,\n",
       " 8.2,\n",
       " 8.2,\n",
       " 8.2,\n",
       " 8.2,\n",
       " 8.2,\n",
       " 8.2,\n",
       " 8.2,\n",
       " 8.2,\n",
       " 8.2,\n",
       " 8.2,\n",
       " 8.2,\n",
       " 8.2,\n",
       " 8.2,\n",
       " 8.2,\n",
       " 8.2,\n",
       " 8.2,\n",
       " 8.2,\n",
       " 8.2,\n",
       " 8.2,\n",
       " 8.2,\n",
       " 8.2,\n",
       " 8.2,\n",
       " 8.2,\n",
       " 8.2,\n",
       " 8.2,\n",
       " 8.2,\n",
       " 8.2,\n",
       " 8.2,\n",
       " 8.2,\n",
       " 8.2,\n",
       " 8.2,\n",
       " 8.2,\n",
       " 8.2,\n",
       " 8.2,\n",
       " 8.2,\n",
       " 8.2,\n",
       " 8.2,\n",
       " 8.2,\n",
       " 8.2,\n",
       " 8.2,\n",
       " 8.2,\n",
       " 8.2,\n",
       " 8.2,\n",
       " 8.2,\n",
       " 8.2,\n",
       " 8.2,\n",
       " 8.2,\n",
       " 8.2,\n",
       " 8.2,\n",
       " 8.2,\n",
       " 8.2,\n",
       " 8.2,\n",
       " 8.2,\n",
       " 8.2,\n",
       " 8.2,\n",
       " 8.2,\n",
       " 8.2,\n",
       " 8.2,\n",
       " 8.2,\n",
       " 8.2,\n",
       " 8.2,\n",
       " 8.2,\n",
       " 8.2,\n",
       " 8.2,\n",
       " 8.2,\n",
       " 8.2,\n",
       " 8.2,\n",
       " 8.2,\n",
       " 8.2,\n",
       " 8.2,\n",
       " 8.2,\n",
       " 8.2,\n",
       " 8.2,\n",
       " 8.2,\n",
       " 8.2,\n",
       " 8.2,\n",
       " 8.2,\n",
       " 8.2,\n",
       " 8.2,\n",
       " 8.2,\n",
       " 8.2,\n",
       " 8.2,\n",
       " 8.2,\n",
       " 8.2,\n",
       " 8.2,\n",
       " 8.2,\n",
       " 8.2,\n",
       " 8.2,\n",
       " 8.2,\n",
       " 8.2,\n",
       " 8.2,\n",
       " 8.2,\n",
       " 8.2,\n",
       " 8.2,\n",
       " 8.2,\n",
       " 8.2,\n",
       " 8.2,\n",
       " 8.2,\n",
       " 8.2,\n",
       " 8.2,\n",
       " 8.2,\n",
       " 8.2,\n",
       " 8.2,\n",
       " 8.2,\n",
       " 8.2,\n",
       " 8.2,\n",
       " 8.2,\n",
       " 8.2,\n",
       " 8.2,\n",
       " 8.2,\n",
       " 8.2,\n",
       " 8.2,\n",
       " 8.2,\n",
       " 8.2,\n",
       " 8.2,\n",
       " 8.2,\n",
       " 8.2,\n",
       " 8.2,\n",
       " 8.2,\n",
       " 8.2,\n",
       " 8.2,\n",
       " 8.2,\n",
       " 8.2,\n",
       " 8.2,\n",
       " 8.2,\n",
       " 8.2,\n",
       " 8.2,\n",
       " 8.2,\n",
       " 8.2,\n",
       " 8.2,\n",
       " 8.2,\n",
       " 8.2,\n",
       " 8.2,\n",
       " 8.2,\n",
       " 8.2,\n",
       " 8.2,\n",
       " 8.2,\n",
       " 8.2,\n",
       " 8.2,\n",
       " 8.2,\n",
       " 8.2,\n",
       " 8.2,\n",
       " 8.2,\n",
       " 8.2,\n",
       " 8.2,\n",
       " 8.2,\n",
       " 8.2,\n",
       " 8.2,\n",
       " 8.2,\n",
       " 8.2,\n",
       " 8.2,\n",
       " 8.2,\n",
       " 8.2,\n",
       " 8.2,\n",
       " 8.2,\n",
       " 8.2,\n",
       " 8.2,\n",
       " 8.2,\n",
       " 8.2,\n",
       " 8.2,\n",
       " 8.2,\n",
       " 8.2]"
      ]
     },
     "execution_count": 69,
     "metadata": {},
     "output_type": "execute_result"
    }
   ],
   "source": [
    "[0]*1000 # List of 1000 zeros \n",
    "[8.2]*1000 # List of 1000 8.2's"
   ]
  },
  {
   "cell_type": "markdown",
   "metadata": {},
   "source": [
    "### Reversing a string"
   ]
  },
  {
   "cell_type": "code",
   "execution_count": 70,
   "metadata": {},
   "outputs": [
    {
     "data": {
      "text/plain": [
       "'egroeG'"
      ]
     },
     "execution_count": 70,
     "metadata": {},
     "output_type": "execute_result"
    }
   ],
   "source": [
    "name = \"George\"\n",
    "name[::-1]"
   ]
  },
  {
   "cell_type": "markdown",
   "metadata": {},
   "source": [
    "### Reverse Sentence"
   ]
  },
  {
   "cell_type": "code",
   "execution_count": 76,
   "metadata": {},
   "outputs": [
    {
     "name": "stdout",
     "output_type": "stream",
     "text": [
      "patil kumar ganesh am I\n"
     ]
    }
   ],
   "source": [
    "sentence = \"I am ganesh kumar patil\"\n",
    "print(\" \".join(sentence.split()[::-1]))"
   ]
  },
  {
   "cell_type": "markdown",
   "metadata": {},
   "source": [
    "### Reverse each word in sentence"
   ]
  },
  {
   "cell_type": "code",
   "execution_count": 78,
   "metadata": {},
   "outputs": [
    {
     "name": "stdout",
     "output_type": "stream",
     "text": [
      "litap ramuk hsenag ma I\n"
     ]
    }
   ],
   "source": [
    "sentence=\"I am ganesh kumar patil\"\n",
    "print(\" \".join(word[::-1] for word in sentence.split()[::-1]))"
   ]
  },
  {
   "cell_type": "markdown",
   "metadata": {},
   "source": [
    "### Initialising empty containers"
   ]
  },
  {
   "cell_type": "code",
   "execution_count": 73,
   "metadata": {},
   "outputs": [],
   "source": [
    "a_list = list()\n",
    "a_dict = dict()\n",
    "a_map = map(a,b)\n",
    "a_set = set()"
   ]
  },
  {
   "cell_type": "markdown",
   "metadata": {},
   "source": [
    "### Convert a dict to XML"
   ]
  },
  {
   "cell_type": "code",
   "execution_count": 74,
   "metadata": {},
   "outputs": [],
   "source": [
    "from xml.etree.ElementTree import Element\n",
    "def dict_to_xml(tag, d):\n",
    "    '''\n",
    "    Turn a simple dict of key/value pairs into XML\n",
    "    '''\n",
    "    elem = Element(tag)\n",
    "    for key, val in d.items():\n",
    "        child = Element(key)\n",
    "        child.text = str(val)\n",
    "        elem.append(child)\n",
    "    return elem"
   ]
  },
  {
   "cell_type": "markdown",
   "metadata": {},
   "source": [
    "### Underscore(_) separator for Large Number"
   ]
  },
  {
   "cell_type": "code",
   "execution_count": 80,
   "metadata": {},
   "outputs": [
    {
     "name": "stdout",
     "output_type": "stream",
     "text": [
      "10,000,000,000\n"
     ]
    }
   ],
   "source": [
    "ten_billion = 10_000_000_000\n",
    "\n",
    "print(f'{ten_billion:,}')"
   ]
  },
  {
   "cell_type": "markdown",
   "metadata": {},
   "source": [
    "### Assign a value with if statement"
   ]
  },
  {
   "cell_type": "code",
   "execution_count": 83,
   "metadata": {},
   "outputs": [
    {
     "name": "stdout",
     "output_type": "stream",
     "text": [
      "Happy\n",
      "Happy\n"
     ]
    }
   ],
   "source": [
    "# general\n",
    "isHappy = True\n",
    "\n",
    "if isHappy == True:\n",
    "    result_string = 'Happy'\n",
    "else:\n",
    "    result_string = 'Not Happy'\n",
    "print(result_string)\n",
    "\n",
    "\n",
    "# advanced\n",
    "isHappy = True\n",
    "result_string = 'Happy' if isHappy else 'Not Happy'\n",
    "print(result_string)"
   ]
  },
  {
   "cell_type": "markdown",
   "metadata": {},
   "source": [
    "### Swap values between two variable"
   ]
  },
  {
   "cell_type": "code",
   "execution_count": 84,
   "metadata": {},
   "outputs": [
    {
     "name": "stdout",
     "output_type": "stream",
     "text": [
      "9 10\n",
      "9 10\n"
     ]
    }
   ],
   "source": [
    "# general\n",
    "low = 10\n",
    "high = 9\n",
    "\n",
    "if low > high:\n",
    "    temp = low\n",
    "    low = high\n",
    "    high = temp\n",
    "\n",
    "print(low, high)\n",
    "\n",
    "\n",
    "# advanced\n",
    "low = 10\n",
    "high = 9\n",
    "\n",
    "if low > high:\n",
    "    low, high = high, low\n",
    "\n",
    "print(low, high)"
   ]
  },
  {
   "cell_type": "code",
   "execution_count": 86,
   "metadata": {},
   "outputs": [
    {
     "data": {
      "text/plain": [
       "(40, 20)"
      ]
     },
     "execution_count": 86,
     "metadata": {},
     "output_type": "execute_result"
    }
   ],
   "source": [
    "v1=20\n",
    "v2=40\n",
    "\n",
    "v1,v2=v2,v1\n",
    "v1, v2"
   ]
  },
  {
   "cell_type": "markdown",
   "metadata": {},
   "source": [
    "### Unpacking"
   ]
  },
  {
   "cell_type": "code",
   "execution_count": 85,
   "metadata": {},
   "outputs": [
    {
     "name": "stdout",
     "output_type": "stream",
     "text": [
      "A 2 3\n",
      "A ['2', '3', '4', '5', '6', '7', '8', '9', '10'] J Q K\n"
     ]
    }
   ],
   "source": [
    "# from 13 cards\n",
    "cards = ('A', '2', '3', '4', '5', '6', '7', '8', '9', '10', 'J', 'Q', 'K' )\n",
    "\n",
    "# extract ace, 2, 3 only\n",
    "ace, two, three, *_ = cards\n",
    "print(ace, two, three)\n",
    "\n",
    "\n",
    "# extract ace, [numbers], J, Q, K\n",
    "ace, *numbers, J, Q, K = cards\n",
    "print(ace, numbers, J, Q, K)"
   ]
  },
  {
   "cell_type": "markdown",
   "metadata": {},
   "source": [
    "### For~Else"
   ]
  },
  {
   "cell_type": "code",
   "execution_count": 87,
   "metadata": {},
   "outputs": [
    {
     "name": "stdout",
     "output_type": "stream",
     "text": [
      "grade not found\n"
     ]
    }
   ],
   "source": [
    "# For ~ Else\n",
    "grades = ['A', 'B', 'C', 'D', 'E', 'F']\n",
    "\n",
    "my_grade = 'A+'\n",
    "\n",
    "for grade in grades:\n",
    "    if grade == my_grade:\n",
    "        print('grade found')\n",
    "        break\n",
    "else:\n",
    "    print('grade not found')"
   ]
  },
  {
   "cell_type": "markdown",
   "metadata": {},
   "source": [
    "### Size of any object"
   ]
  },
  {
   "cell_type": "code",
   "execution_count": 90,
   "metadata": {},
   "outputs": [
    {
     "data": {
      "text/plain": [
       "(112, 96)"
      ]
     },
     "execution_count": 90,
     "metadata": {},
     "output_type": "execute_result"
    }
   ],
   "source": [
    "a=[1,2,4,5,6,7]\n",
    "#b=(1,2,4,5,6,7)\n",
    "b=tuple(a)\n",
    "\n",
    "import sys\n",
    "sys.getsizeof(a), sys.getsizeof(b)"
   ]
  },
  {
   "cell_type": "markdown",
   "metadata": {},
   "source": [
    "### String Multiplication"
   ]
  },
  {
   "cell_type": "code",
   "execution_count": 93,
   "metadata": {},
   "outputs": [
    {
     "data": {
      "text/plain": [
       "'ganeshganeshganeshganeshganesh'"
      ]
     },
     "execution_count": 93,
     "metadata": {},
     "output_type": "execute_result"
    }
   ],
   "source": [
    "a=\"ganesh\"\n",
    "a*5"
   ]
  },
  {
   "cell_type": "markdown",
   "metadata": {},
   "source": [
    "### Assign Multiple Variables in One Line"
   ]
  },
  {
   "cell_type": "code",
   "execution_count": 95,
   "metadata": {},
   "outputs": [
    {
     "name": "stdout",
     "output_type": "stream",
     "text": [
      "10 20 30\n"
     ]
    }
   ],
   "source": [
    "a,b,c=10,20,30\n",
    "print(a,b,c)"
   ]
  },
  {
   "cell_type": "code",
   "execution_count": 96,
   "metadata": {},
   "outputs": [
    {
     "name": "stdout",
     "output_type": "stream",
     "text": [
      "10 20 30\n"
     ]
    }
   ],
   "source": [
    "a,b,c=[10,20,30]\n",
    "print(a,b,c)"
   ]
  },
  {
   "cell_type": "markdown",
   "metadata": {},
   "source": [
    "### Create an Enum"
   ]
  },
  {
   "cell_type": "code",
   "execution_count": 101,
   "metadata": {},
   "outputs": [
    {
     "name": "stdout",
     "output_type": "stream",
     "text": [
      "0 2 1\n"
     ]
    }
   ],
   "source": [
    "class person:\n",
    "    ganesh=0\n",
    "    seema=2\n",
    "    siya=1\n",
    "    \n",
    "print(person.ganesh, person.seema, person.siya)"
   ]
  },
  {
   "cell_type": "code",
   "execution_count": 103,
   "metadata": {},
   "outputs": [
    {
     "name": "stdout",
     "output_type": "stream",
     "text": [
      "2 1 0\n"
     ]
    }
   ],
   "source": [
    "class person:\n",
    "    ganesh,seema,siya=range(3)\n",
    "    \n",
    "print(person.siya, person.seema, person.ganesh)"
   ]
  },
  {
   "cell_type": "markdown",
   "metadata": {},
   "source": [
    "### The Dir Function"
   ]
  },
  {
   "cell_type": "code",
   "execution_count": 112,
   "metadata": {},
   "outputs": [
    {
     "name": "stdout",
     "output_type": "stream",
     "text": [
      "['__add__', '__class__', '__contains__', '__delattr__', '__delitem__', '__dir__', '__doc__', '__eq__', '__format__', '__ge__', '__getattribute__', '__getitem__', '__gt__', '__hash__', '__iadd__', '__imul__', '__init__', '__init_subclass__', '__iter__', '__le__', '__len__', '__lt__', '__mul__', '__ne__', '__new__', '__reduce__', '__reduce_ex__', '__repr__', '__reversed__', '__rmul__', '__setattr__', '__setitem__', '__sizeof__', '__str__', '__subclasshook__', 'append', 'clear', 'copy', 'count', 'extend', 'index', 'insert', 'pop', 'remove', 'reverse', 'sort']\n"
     ]
    }
   ],
   "source": [
    "a=[1,2,4,5]\n",
    "print(dir(a))"
   ]
  },
  {
   "cell_type": "code",
   "execution_count": 113,
   "metadata": {},
   "outputs": [
    {
     "data": {
      "text/plain": [
       "[1, 2, 4]"
      ]
     },
     "execution_count": 113,
     "metadata": {},
     "output_type": "execute_result"
    }
   ],
   "source": [
    "a.pop()\n",
    "a"
   ]
  },
  {
   "cell_type": "code",
   "execution_count": 114,
   "metadata": {},
   "outputs": [
    {
     "data": {
      "text/plain": [
       "[4, 2, 1]"
      ]
     },
     "execution_count": 114,
     "metadata": {},
     "output_type": "execute_result"
    }
   ],
   "source": [
    "a.reverse()\n",
    "a"
   ]
  },
  {
   "cell_type": "code",
   "execution_count": 118,
   "metadata": {},
   "outputs": [
    {
     "data": {
      "text/plain": [
       "0"
      ]
     },
     "execution_count": 118,
     "metadata": {},
     "output_type": "execute_result"
    }
   ],
   "source": [
    "a.index(4)"
   ]
  },
  {
   "cell_type": "code",
   "execution_count": 119,
   "metadata": {},
   "outputs": [
    {
     "data": {
      "text/plain": [
       "[4, 2, 1, 3, 4, 5]"
      ]
     },
     "execution_count": 119,
     "metadata": {},
     "output_type": "execute_result"
    }
   ],
   "source": [
    "b=[3,4,5]\n",
    "a.extend(b)\n",
    "a"
   ]
  },
  {
   "cell_type": "code",
   "execution_count": 106,
   "metadata": {},
   "outputs": [
    {
     "name": "stdout",
     "output_type": "stream",
     "text": [
      "[]\n"
     ]
    }
   ],
   "source": [
    "a.clear()\n",
    "print(a)"
   ]
  },
  {
   "cell_type": "markdown",
   "metadata": {},
   "source": [
    "### Argument Unpacking"
   ]
  },
  {
   "cell_type": "code",
   "execution_count": 120,
   "metadata": {},
   "outputs": [
    {
     "name": "stdout",
     "output_type": "stream",
     "text": [
      "(1, 2, 4)\n"
     ]
    }
   ],
   "source": [
    "def func(*args):\n",
    "    print(args)\n",
    "    \n",
    "func(1,2,4)"
   ]
  },
  {
   "cell_type": "code",
   "execution_count": 121,
   "metadata": {},
   "outputs": [
    {
     "name": "stdout",
     "output_type": "stream",
     "text": [
      "('a', 'b', 'c')\n"
     ]
    }
   ],
   "source": [
    "func(\"a\",\"b\",\"c\")"
   ]
  },
  {
   "cell_type": "code",
   "execution_count": 122,
   "metadata": {},
   "outputs": [],
   "source": [
    "person = {\"name\": \"Paul\", \"age\": 23, \"location\": \"London\"}"
   ]
  },
  {
   "cell_type": "code",
   "execution_count": 123,
   "metadata": {},
   "outputs": [
    {
     "name": "stdout",
     "output_type": "stream",
     "text": [
      "Name = Paul\n",
      "Age = 23\n",
      "Location = London\n"
     ]
    }
   ],
   "source": [
    "def func(name, age, location):\n",
    "    print(f\"Name = {name}\")\n",
    "    print(f\"Age = {age}\")\n",
    "    print(f\"Location = {location}\")\n",
    "    \n",
    "func(**person)"
   ]
  },
  {
   "cell_type": "code",
   "execution_count": null,
   "metadata": {},
   "outputs": [],
   "source": []
  }
 ],
 "metadata": {
  "kernelspec": {
   "display_name": "Python 3",
   "language": "python",
   "name": "python3"
  },
  "language_info": {
   "codemirror_mode": {
    "name": "ipython",
    "version": 3
   },
   "file_extension": ".py",
   "mimetype": "text/x-python",
   "name": "python",
   "nbconvert_exporter": "python",
   "pygments_lexer": "ipython3",
   "version": "3.6.8"
  }
 },
 "nbformat": 4,
 "nbformat_minor": 2
}
